{
 "cells": [
  {
   "cell_type": "markdown",
   "metadata": {},
   "source": [
    "# refer https://zhuanlan.zhihu.com/p/168766486"
   ]
  },
  {
   "cell_type": "code",
   "execution_count": 1,
   "metadata": {},
   "outputs": [],
   "source": [
    "import os"
   ]
  },
  {
   "cell_type": "code",
   "execution_count": 6,
   "metadata": {},
   "outputs": [],
   "source": [
    "class Config(object):\n",
    "    DEBUG = True\n",
    "    SECRET_KEY = \"*(%#4sxcz(^(#$#8423\"\n",
    "    # 数据库链接配置 = 数据库名称://登录账号:登录密码@数据库主机IP:数据库访问端口/数据库名称?charset=编码类型\n",
    "    SQLALCHEMY_DATABASE_URI = os.environ.get('DEV_DATABASE_URL') or \\\n",
    "        'sqlite:///' + os.path.join('./', 'student.sqlite')"
   ]
  },
  {
   "cell_type": "code",
   "execution_count": 7,
   "metadata": {},
   "outputs": [],
   "source": [
    "from flask import Flask\n",
    "from config import Config\n",
    "\n",
    "app = Flask(__name__,template_folder='templates')\n",
    "app.config.from_object(Config)"
   ]
  },
  {
   "cell_type": "code",
   "execution_count": 17,
   "metadata": {},
   "outputs": [],
   "source": [
    "app.config.from_object(Config)\n",
    "\n",
    "# 初始化SQLAlchemy\n",
    "from flask_sqlalchemy import SQLAlchemy\n",
    "# db = SQLAlchemy() # 初始化数据库操作对象\n",
    "# db.init_app(app)  # 初始化数据库链接d\n",
    "db=SQLAlchemy(app)\n",
    "class Student(db.Model):\n",
    "    # 表结构声明\n",
    "    __tablename__ = \"tb_student\"\n",
    "\n",
    "    # 字段声明\n",
    "    id   = db.Column(db.Integer, primary_key=True, comment=\"主键\")\n",
    "    name = db.Column(db.String(64), index=True, comment=\"姓名\")\n",
    "    sex  = db.Column(db.Boolean, default=True, comment=\"性别\")\n",
    "    age  = db.Column(db.SmallInteger, nullable=True, comment=\"年龄\")\n",
    "    email = db.Column(db.String(128), unique=True, comment=\"邮箱地址\")\n",
    "    money = db.Column(db.Numeric(8,2), default=0, comment=\"钱包\")\n",
    "\n",
    "    # 自定义方法\n",
    "    def __repr__(self):\n",
    "        return 'Student:%s' % self.name\n",
    "\n",
    "class Teacher(db.Model):\n",
    "    # 表结构声明\n",
    "    __tablename__ = 'tb_teacher'\n",
    "\n",
    "    id = db.Column(db.Integer, primary_key=True)\n",
    "    name = db.Column(db.String(64), unique=True)\n",
    "    option = db.Column(db.Enum(\"讲师\",\"助教\",\"班主任\"), default=\"讲师\")\n",
    "    def __repr__(self):\n",
    "        return 'Teacher:%s' % self.name\n",
    "\n",
    "class Course(db.Model):\n",
    "    # 定义表名\n",
    "    __tablename__ = 'tb_course'\n",
    "    # 定义字段对象\n",
    "    id = db.Column(db.Integer, primary_key=True)\n",
    "    name = db.Column(db.String(64), unique=True)\n",
    "    price = db.Column(db.Numeric(6,2))\n",
    "    # repr()方法类似于django的__str__，用于打印模型对象时显示的字符串信息\n",
    "    def __repr__(self):\n",
    "        return 'Course:%s'% self.name"
   ]
  },
  {
   "cell_type": "code",
   "execution_count": 18,
   "metadata": {},
   "outputs": [],
   "source": [
    "db.drop_all()"
   ]
  },
  {
   "cell_type": "code",
   "execution_count": 19,
   "metadata": {},
   "outputs": [],
   "source": [
    "with app.app_context():\n",
    "    db.create_all()\n",
    "    # 创建数据\n",
    "    # student = Student(name='张三',"
   ]
  },
  {
   "cell_type": "code",
   "execution_count": 20,
   "metadata": {},
   "outputs": [],
   "source": [
    "student1=Student(name='张三',sex=True,age=17,email='12121@qq.com',money=100)\n",
    "#with app.app_context():\n",
    "db.session.add(student1)\n",
    "db.session.commit()"
   ]
  },
  {
   "cell_type": "code",
   "execution_count": 21,
   "metadata": {},
   "outputs": [],
   "source": [
    "student2 = Student(name='小红', sex=False, age=13, email=\"16565666@qq.com\", money=600)\n",
    "db.session.add(student2)\n",
    "db.session.commit()"
   ]
  },
  {
   "cell_type": "code",
   "execution_count": 22,
   "metadata": {},
   "outputs": [],
   "source": [
    "st1 = Student(name='wang',email='wang@163.com',age=22)\n",
    "st2 = Student(name='zhang',email='zhang@189.com',age=22)\n",
    "st3 = Student(name='chen',email='chen@126.com',age=22)\n",
    "st4 = Student(name='zhou',email='zhou@163.com',age=22)\n",
    "st5 = Student(name='tang',email='tang@163.com',age=22)\n",
    "st6 = Student(name='wu',email='wu@gmail.com',age=22)\n",
    "st7 = Student(name='qian',email='qian@gmail.com',age=22)\n",
    "st8 = Student(name='liu',email='liu@163.com',age=22)\n",
    "st9 = Student(name='li',email='li@163.com',age=22)\n",
    "st10 = Student(name='sun',email='sun@163.com',age=22)\n",
    "db.session.add_all([st1,st2,st3,st4,st5,st6,st7,st8,st9,st10])\n",
    "db.session.commit()"
   ]
  },
  {
   "cell_type": "code",
   "execution_count": null,
   "metadata": {},
   "outputs": [],
   "source": [
    "student=Student.query.first()\n",
    "print(student)\n",
    "db.session.delete(student)\n",
    "db.session.commit()"
   ]
  },
  {
   "cell_type": "code",
   "execution_count": 24,
   "metadata": {},
   "outputs": [
    {
     "name": "stdout",
     "output_type": "stream",
     "text": [
      "1\n"
     ]
    }
   ],
   "source": [
    "ret=Student.query.filter_by(name='sun').delete()\n",
    "print(ret)\n",
    "db.session.commit()"
   ]
  },
  {
   "cell_type": "code",
   "execution_count": 25,
   "metadata": {},
   "outputs": [],
   "source": [
    "# update datea\n",
    "student=Student.query.first()\n",
    "student.name='李四'\n",
    "db.session.commit()"
   ]
  },
  {
   "cell_type": "code",
   "execution_count": 28,
   "metadata": {},
   "outputs": [],
   "source": [
    "ret=Student.query.filter_by(name='李四').update({'money':1000})\n",
    "db.session.commit()\n",
    "\n",
    "ret=Student.query.filter(Student.age==22).update({Student.money: Student.money+100})\n",
    "db.session.commit()"
   ]
  },
  {
   "cell_type": "code",
   "execution_count": 30,
   "metadata": {},
   "outputs": [
    {
     "data": {
      "text/plain": [
       "Student:李四"
      ]
     },
     "execution_count": 30,
     "metadata": {},
     "output_type": "execute_result"
    }
   ],
   "source": [
    "Student.query.get(2)"
   ]
  },
  {
   "cell_type": "code",
   "execution_count": 31,
   "metadata": {},
   "outputs": [
    {
     "data": {
      "text/plain": [
       "[Student:李四,\n",
       " Student:wang,\n",
       " Student:zhang,\n",
       " Student:chen,\n",
       " Student:zhou,\n",
       " Student:tang,\n",
       " Student:wu,\n",
       " Student:qian,\n",
       " Student:liu,\n",
       " Student:li]"
      ]
     },
     "execution_count": 31,
     "metadata": {},
     "output_type": "execute_result"
    }
   ],
   "source": [
    "Student.query.all()"
   ]
  },
  {
   "cell_type": "code",
   "execution_count": 32,
   "metadata": {},
   "outputs": [],
   "source": [
    "ret=Student.query.filter(Student.name.endswith('g')).all()\n",
    "ret=db.session.query(Student).filter(Student.age==22).all()"
   ]
  },
  {
   "cell_type": "code",
   "execution_count": 33,
   "metadata": {},
   "outputs": [],
   "source": [
    "ret=Student.query.filter_by(name='李四').first()\n",
    "ret=Student.query.filter_by(age=22).all()"
   ]
  },
  {
   "cell_type": "code",
   "execution_count": null,
   "metadata": {},
   "outputs": [],
   "source": [
    "#查询所有男生数据\n",
    "ret = Student.query.filter(Student.sex==True).all()\n",
    "#查询所有女生数据\n",
    "ret = Student.query.filter(Student.sex==False).all()\n",
    "#查询id为4的学生[2种方式]\n",
    "ret = Student.query.filter(Student.id==4).first()\n",
    "ret = Student.query.get(4)\n",
    "ret = Student.query.filter_by(id=4).first()    \n",
    "#查询年龄等于22的所有学生数据\n",
    "ret = Student.query.filter_by(age=22).all()\n",
    "#查询name为liu的学生数据\n",
    "ret = Student.query.filter(Student.name == \"liu\").all()\n",
    "ret = Student.query.filter_by(name=\"liu\").all()"
   ]
  },
  {
   "cell_type": "code",
   "execution_count": 34,
   "metadata": {},
   "outputs": [
    {
     "data": {
      "text/plain": [
       "[Student:李四,\n",
       " Student:wang,\n",
       " Student:zhang,\n",
       " Student:chen,\n",
       " Student:zhou,\n",
       " Student:tang,\n",
       " Student:wu,\n",
       " Student:qian,\n",
       " Student:li]"
      ]
     },
     "execution_count": 34,
     "metadata": {},
     "output_type": "execute_result"
    }
   ],
   "source": [
    "Student.query.filter(Student.name.like(\"%i%\")).all()\n",
    "Student.query.filter(Student.name!=\"liu\").all()"
   ]
  },
  {
   "cell_type": "code",
   "execution_count": 36,
   "metadata": {},
   "outputs": [
    {
     "data": {
      "text/plain": [
       "[Student:李四,\n",
       " Student:wang,\n",
       " Student:zhang,\n",
       " Student:chen,\n",
       " Student:zhou,\n",
       " Student:tang,\n",
       " Student:wu,\n",
       " Student:qian,\n",
       " Student:li]"
      ]
     },
     "execution_count": 36,
     "metadata": {},
     "output_type": "execute_result"
    }
   ],
   "source": [
    "from sqlalchemy import or_,not_,and_\n",
    "Student.query.filter(or_(Student.name==\"liu\",Student.name==\"wang\")).all()\n",
    "Student.query.filter(and_(Student.name==\"liu\",Student.email.endswith('163.com'))).all()\n",
    "Student.query.filter(not_(Student.name==\"liu\")).all()"
   ]
  },
  {
   "cell_type": "code",
   "execution_count": 37,
   "metadata": {},
   "outputs": [
    {
     "name": "stdout",
     "output_type": "stream",
     "text": [
      "[Student:李四, Student:wang]\n"
     ]
    }
   ],
   "source": [
    "student=Student.query.filter(Student.id.in_([1,2,3])).all()\n",
    "print(student)"
   ]
  },
  {
   "cell_type": "code",
   "execution_count": 38,
   "metadata": {},
   "outputs": [],
   "source": [
    "# order by\n",
    "\n",
    "ret=Student.query.order_by(Student.age.desc()).all()\n",
    "ret=Student.query.order_by(Student.age.asc(), Student.id.desc()).all()"
   ]
  },
  {
   "cell_type": "code",
   "execution_count": 39,
   "metadata": {},
   "outputs": [
    {
     "data": {
      "text/plain": [
       "9"
      ]
     },
     "execution_count": 39,
     "metadata": {},
     "output_type": "execute_result"
    }
   ],
   "source": [
    "#count\n",
    "Student.query.filter(Student.age>20,Student.sex==True).count()\n",
    "Student.query.filter(and_(Student.age>20,Student.sex==True)).count()"
   ]
  },
  {
   "cell_type": "code",
   "execution_count": 40,
   "metadata": {},
   "outputs": [
    {
     "name": "stdout",
     "output_type": "stream",
     "text": [
      "[Student:wang, Student:zhang, Student:chen] [Student:tang, Student:zhou, Student:chen, Student:zhang]\n",
      "[Student:wang, Student:chen, Student:tang, Student:qian]\n"
     ]
    }
   ],
   "source": [
    "# 查询年龄最大的3个学生\n",
    "ret1 = Student.query.order_by(Student.age.desc()).limit(3).all()\n",
    "\n",
    "  # 查询年龄排第4到第7名的学生\n",
    "ret2 = Student.query.order_by(Student.age.desc(),Student.id.desc()).offset(4).limit(4).all()\n",
    "print(ret1,ret2)\n",
    "# 查询名字和邮箱都以 li 开头的所有数据[2种方式]\n",
    "ret = Student.query.filter(Student.name.startswith(\"li\"),Student.email.startswith(\"li\")).all()\n",
    "# 查询age是 18 或者 `email` 以 `163.com` 结尾的所有学生\n",
    "Student.query.filter(or_(Student.age==18,Student.email.endswith(\"163.com\"))).all()\n",
    "# 查询id为 [1, 3, 5, 7, 9] 的学生列表\n",
    "student_list = Student.query.filter(Student.id.in_([1, 3, 5, 7, 9])).all()\n",
    "print(student_list)\n",
    "# 查询男生和女生的数量\n",
    "ret = Student.query.filter_by(sex=True).count()\n",
    "ret = Student.query.filter_by(sex=False).count()"
   ]
  },
  {
   "cell_type": "code",
   "execution_count": 43,
   "metadata": {},
   "outputs": [
    {
     "name": "stdout",
     "output_type": "stream",
     "text": [
      "[Student:李四, Student:wang, Student:zhang]\n"
     ]
    }
   ],
   "source": [
    "# pagination\n",
    "pagination = Student.query.paginate(per_page=3)\n",
    "print(pagination.items)\n",
    "\n",
    "# 获取当前页面所有数据\n",
    "    # print( pagination.items )\n",
    "    # data = {\n",
    "    #     \"items\": [],\n",
    "    #     \"pages\": pagination.pages,\n",
    "    #     \"page\": pagination.page,\n",
    "    #     \"has_prev\": pagination.has_prev,\n",
    "    #     \"has_next\": pagination.has_next,\n",
    "    # }\n",
    "\n",
    "    # for item in pagination.items:\n",
    "    #     data[\"items\"].append({\n",
    "    #         \"id\": item.id,\n",
    "    #         \"sex\": \"男\" if item.sex else \"女\",\n",
    "    #         \"age\": item.age,\n",
    "    #         \"name\": item.name,\n",
    "    #     })\n",
    "    #\n",
    "    # if pagination.has_prev:\n",
    "    #     print( pagination.prev() ) # 上一页数据的分页器对象\n",
    "    #     print( pagination.prev().items ) # 上一页数据\n",
    "    #\n",
    "    # if pagination.has_next:\n",
    "    #     print( pagination.next() ) # 下一页数据的分页器对象\n",
    "    #     print( pagination.next().items ) # 下一页数据"
   ]
  },
  {
   "cell_type": "code",
   "execution_count": 44,
   "metadata": {},
   "outputs": [],
   "source": [
    "# 查询当前所有男生女生的数量\n",
    "# 第一个括号里面的是输出的内容， 第二个是分组条件\n",
    "from sqlalchemy import func\n",
    "    # ret = db.session.query(Student.sex,func.count(Student.id)).group_by(Student.sex).all()\n",
    "    # 查询当前不同年龄的学生数量\n",
    "ret = db.session.query(Student.age,func.count(Student.id)).group_by(Student.age).having(Student.age>19).all()\n",
    "\n",
    "    # 查询男生和女生中，年龄最小的是几岁？\n",
    "ret = db.session.query(Student.sex,func.min(Student.age)).group_by(Student.sex).all()"
   ]
  },
  {
   "cell_type": "code",
   "execution_count": 47,
   "metadata": {},
   "outputs": [],
   "source": [
    "# 执行原生的sql 语句\n",
    "\n",
    "ret=db.session.execute(\"select * from tb_student\").fetchall()\n",
    "ret=db.session.execute(\"select * from tb_student\").fetchone()\n",
    "db.session.execute(\"update tb_student SET money=(tb_student.money+%s) where tb_student.age=%s\" %(200,22))\n",
    "db.session.commit()"
   ]
  }
 ],
 "metadata": {
  "interpreter": {
   "hash": "6286082019f9318440150e599603e51848f90b63233a5c3d8d52fcfd1e304611"
  },
  "kernelspec": {
   "display_name": "Python 3.7.7 64-bit ('flasky-eqPOXKNY': pipenv)",
   "language": "python",
   "name": "python3"
  },
  "language_info": {
   "codemirror_mode": {
    "name": "ipython",
    "version": 3
   },
   "file_extension": ".py",
   "mimetype": "text/x-python",
   "name": "python",
   "nbconvert_exporter": "python",
   "pygments_lexer": "ipython3",
   "version": "3.9.7"
  },
  "orig_nbformat": 4
 },
 "nbformat": 4,
 "nbformat_minor": 2
}
